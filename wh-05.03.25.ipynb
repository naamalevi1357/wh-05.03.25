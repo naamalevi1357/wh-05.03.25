{
 "cells": [
  {
   "cell_type": "code",
   "execution_count": 1,
   "id": "bf8ab63a-e3b9-4f83-8d28-6fdf6f70548e",
   "metadata": {},
   "outputs": [
    {
     "name": "stdout",
     "output_type": "stream",
     "text": [
      "Requirement already satisfied: numpy in c:\\users\\naama\\anaconda3\\lib\\site-packages (1.26.4)\n"
     ]
    }
   ],
   "source": [
    "!pip install numpy\n"
   ]
  },
  {
   "cell_type": "code",
   "execution_count": 19,
   "id": "7b70b10d-3cb4-48f9-af01-02824c5ea3fe",
   "metadata": {},
   "outputs": [
    {
     "name": "stdout",
     "output_type": "stream",
     "text": [
      "[[48 61 39 84]\n",
      " [11 51  4 87]\n",
      " [24 16 82  6]\n",
      " [65 10 93 43]]\n"
     ]
    },
    {
     "data": {
      "text/plain": [
       "array([61, 84, 51, 87, 82, 65, 93], dtype=int32)"
      ]
     },
     "metadata": {},
     "output_type": "display_data"
    },
    {
     "name": "stdout",
     "output_type": "stream",
     "text": [
      "[148 138 218 220]\n",
      "[232 153 128 211]\n",
      "[65 61 93 87]\n",
      "[84 87 82 93]\n",
      "\n",
      "[11 10  4  6]\n",
      "[39  4  6 10]\n",
      "\n",
      "[37.  34.5 54.5 55. ]\n",
      "[58.   38.25 32.   52.75]\n"
     ]
    }
   ],
   "source": [
    "# 1\n",
    "import numpy as np\n",
    "\n",
    "np.random.seed(80)\n",
    "rand_array = np.random.randint(1, 100, (4, 4))\n",
    "print(rand_array)\n",
    "\n",
    "# a\n",
    "display(rand_array[rand_array > 50]) \n",
    "\n",
    "# b\n",
    "print(rand_array.sum(axis=0)) \n",
    "print(rand_array.sum(axis=1)) \n",
    "\n",
    "# c\n",
    "#i\n",
    "print(rand_array.max(axis=0)) \n",
    "print(rand_array.max(axis=1)) \n",
    "print()\n",
    "\n",
    "# ii\n",
    "print(rand_array.min(axis=0)) \n",
    "print(rand_array.min(axis=1))\n",
    "print()\n",
    "\n",
    "# iii\n",
    "print(rand_array.mean(axis=0)) \n",
    "print(rand_array.mean(axis=1))\n"
   ]
  },
  {
   "cell_type": "code",
   "execution_count": 24,
   "id": "ae887248-d2ff-4b21-b4af-f88a65670077",
   "metadata": {},
   "outputs": [
    {
     "name": "stdout",
     "output_type": "stream",
     "text": [
      "Requirement already satisfied: pandas in c:\\users\\naama\\appdata\\local\\programs\\python\\python313\\lib\\site-packages (2.2.3)\n",
      "Requirement already satisfied: numpy>=1.26.0 in c:\\users\\naama\\appdata\\local\\programs\\python\\python313\\lib\\site-packages (from pandas) (2.2.5)\n",
      "Requirement already satisfied: python-dateutil>=2.8.2 in c:\\users\\naama\\appdata\\local\\programs\\python\\python313\\lib\\site-packages (from pandas) (2.9.0.post0)\n",
      "Requirement already satisfied: pytz>=2020.1 in c:\\users\\naama\\appdata\\local\\programs\\python\\python313\\lib\\site-packages (from pandas) (2025.2)\n",
      "Requirement already satisfied: tzdata>=2022.7 in c:\\users\\naama\\appdata\\local\\programs\\python\\python313\\lib\\site-packages (from pandas) (2025.2)\n",
      "Requirement already satisfied: six>=1.5 in c:\\users\\naama\\appdata\\local\\programs\\python\\python313\\lib\\site-packages (from python-dateutil>=2.8.2->pandas) (1.17.0)\n",
      "Note: you may need to restart the kernel to use updated packages.\n"
     ]
    },
    {
     "name": "stderr",
     "output_type": "stream",
     "text": [
      "\n",
      "[notice] A new release of pip is available: 24.2 -> 25.1.1\n",
      "[notice] To update, run: C:\\Users\\naama\\AppData\\Local\\Programs\\Python\\Python313\\python.exe -m pip install --upgrade pip\n"
     ]
    }
   ],
   "source": [
    "pip install pandas"
   ]
  },
  {
   "cell_type": "code",
   "execution_count": 27,
   "id": "47d4c767-6abf-4160-829b-8fdbc71d555b",
   "metadata": {},
   "outputs": [],
   "source": [
    "import pandas as pd"
   ]
  },
  {
   "cell_type": "code",
   "execution_count": 42,
   "id": "59b2e628-0ff2-4274-b838-a6abe69dd0d2",
   "metadata": {},
   "outputs": [
    {
     "name": "stdout",
     "output_type": "stream",
     "text": [
      "Final Fantasy VII Rebirth            69.99\n",
      "Astro Bot                            59.99\n",
      "Star Wars Outlaws                    69.99\n",
      "Silent Hill 2 Remake                 69.99\n",
      "Elden Ring: Shadow of the Erdtree    39.99\n",
      "Dragon Age: The Veilguard            69.99\n",
      "Metaphor: ReFantazio                 59.99\n",
      "dtype: float64\n",
      "59.99\n",
      "Index(['Final Fantasy VII Rebirth', 'Astro Bot', 'Star Wars Outlaws',\n",
      "       'Silent Hill 2 Remake', 'Elden Ring: Shadow of the Erdtree',\n",
      "       'Dragon Age: The Veilguard', 'Metaphor: ReFantazio'],\n",
      "      dtype='object')\n",
      "69.99\n",
      "[np.float64(69.99), np.float64(59.99), np.float64(69.99), np.float64(69.99), np.float64(39.99), np.float64(69.99), np.float64(59.99)]\n",
      "439.93\n"
     ]
    }
   ],
   "source": [
    "# 2\n",
    "new_games = {\n",
    "\"Final Fantasy VII Rebirth\": 69.99,\n",
    "\"Astro Bot\": 59.99,\n",
    "\"Star Wars Outlaws\": 69.99,\n",
    "\"Silent Hill 2 Remake\": 69.99,\n",
    "\"Elden Ring: Shadow of the Erdtree\": 39.99,\n",
    "\"Dragon Age: The Veilguard\": 69.99,\n",
    "\"Metaphor: ReFantazio\": 59.99\n",
    "}\n",
    "pd_ser= pd.Series(new_games)\n",
    "print(pd_ser)\n",
    "\n",
    "#a\n",
    "print(pd_ser[\"Metaphor: ReFantazio\"])\n",
    "\n",
    "# b\n",
    "print(pd_ser.keys())\n",
    "\n",
    "# c\n",
    "print(pd_ser.iloc[3])  \n",
    "\n",
    "# d\n",
    "df=list(pd_ser.values)\n",
    "print(df)\n",
    "print(sum(df))"
   ]
  }
 ],
 "metadata": {
  "kernelspec": {
   "display_name": "Python 3 (ipykernel)",
   "language": "python",
   "name": "python3"
  },
  "language_info": {
   "codemirror_mode": {
    "name": "ipython",
    "version": 3
   },
   "file_extension": ".py",
   "mimetype": "text/x-python",
   "name": "python",
   "nbconvert_exporter": "python",
   "pygments_lexer": "ipython3",
   "version": "3.13.0"
  }
 },
 "nbformat": 4,
 "nbformat_minor": 5
}
